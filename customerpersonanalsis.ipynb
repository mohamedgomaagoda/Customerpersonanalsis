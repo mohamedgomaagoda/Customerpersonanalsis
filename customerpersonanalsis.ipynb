{
  "nbformat": 4,
  "nbformat_minor": 0,
  "metadata": {
    "colab": {
      "provenance": [],
      "authorship_tag": "ABX9TyNsw2WfeHAuKcYOklM290y5",
      "include_colab_link": true
    },
    "kernelspec": {
      "name": "python3",
      "display_name": "Python 3"
    },
    "language_info": {
      "name": "python"
    }
  },
  "cells": [
    {
      "cell_type": "markdown",
      "metadata": {
        "id": "view-in-github",
        "colab_type": "text"
      },
      "source": [
        "<a href=\"https://colab.research.google.com/github/mohamedgomaagoda/Customerpersonanalsis/blob/main/customerpersonanalsis.ipynb\" target=\"_parent\"><img src=\"https://colab.research.google.com/assets/colab-badge.svg\" alt=\"Open In Colab\"/></a>"
      ]
    },
    {
      "cell_type": "code",
      "execution_count": null,
      "metadata": {
        "id": "AQld0GiF9N_N"
      },
      "outputs": [],
      "source": [
        "import numpy as np\n",
        "import pandas as pd\n",
        "import datetime\n",
        "import matplotlib\n",
        "import matplotlib.pyplot as plt\n",
        "from matplotlib import colors\n",
        "import seaborn as sns\n",
        "from sklearn.preprocessing import LabelEncoder\n",
        "from sklearn.preprocessing import StandardScaler\n",
        "from sklearn.decomposition import PCA\n",
        "from yellowbrick.cluster import KElbowVisualizer\n",
        "from sklearn.cluster import KMeans\n",
        "import matplotlib.pyplot as plt, numpy as np\n",
        "from mpl_toolkits.mplot3d import Axes3D\n",
        "from sklearn.cluster import AgglomerativeClustering\n",
        "from matplotlib.colors import ListedColormap\n",
        "from sklearn import metrics\n",
        "data = pd.read_csv(\"../input/customer-personality-analysis/marketing_campaign.csv\", sep=\"\\t\")\n",
        "print(\"Number of datapoints:\", len(data))\n",
        "data.head()\n",
        "data.info()\n",
        "data = data.dropna()\n",
        "print(\"The total number of data-points after removing the rows with missing values are:\", len(data))\n",
        "data = data[(data[\"Age\"]<90)]\n",
        "data = data[(data[\"Income\"]<600000)]\n",
        "print(\"The total number of data-points after removing the outliers are:\", len(data))\n",
        "corrmat= data.corr()\n",
        "plt.figure(figsize=(20,20))\n",
        "sns.heatmap(corrmat,annot=True, cmap=cmap, center=0)\n",
        "s = (data.dtypes == 'object')\n",
        "object_cols = list(s[s].index)\n",
        "\n",
        "print(\"Categorical variables in the dataset:\", object_cols)\n",
        "LE=LabelEncoder()\n",
        "for i in object_cols:\n",
        "    data[i]=data[[i]].apply(LE.fit_transform)\n",
        "\n",
        "print(\"All features are now numerical\")\n",
        "\n",
        "\n",
        "#Creating a copy of data\n",
        "ds = data.copy()\n",
        "# creating a subset of dataframe by dropping the features on deals accepted and promotions\n",
        "cols_del = ['AcceptedCmp3', 'AcceptedCmp4', 'AcceptedCmp5', 'AcceptedCmp1','AcceptedCmp2', 'Complain', 'Response']\n",
        "ds = ds.drop(cols_del, axis=1)\n",
        "#Scaling\n",
        "scaler = StandardScaler()\n",
        "scaler.fit(ds)\n",
        "scaled_ds = pd.DataFrame(scaler.transform(ds),columns= ds.columns )\n",
        "print(\"All features are now scaled\")\n",
        "scaled_ds.head()\n",
        "pca = PCA(n_components=3)\n",
        "pca.fit(scaled_ds)\n",
        "PCA_ds = pd.DataFrame(pca.transform(scaled_ds), columns=([\"col1\",\"col2\", \"col3\"]))\n",
        "PCA_ds.describe().T\n",
        "print('Elbow Method to determine the number of clusters to be formed:')\n",
        "Elbow_M = KElbowVisualizer(KMeans(), k=10)\n",
        "Elbow_M.fit(PCA_ds)\n",
        "Elbow_M.show()\n",
        "AC = AgglomerativeClustering(n_clusters=4)\n",
        "# fit model and predict clusters\n",
        "yhat_AC = AC.fit_predict(PCA_ds)\n",
        "PCA_ds[\"Clusters\"] = yhat_AC\n",
        "#Adding the Clusters feature to the orignal dataframe.\n",
        "data[\"Clusters\"]= yhat_AC\n",
        "fig = plt.figure(figsize=(10,8))\n",
        "ax = plt.subplot(111, projection='3d', label=\"bla\")\n",
        "ax.scatter(x, y, z, s=40, c=PCA_ds[\"Clusters\"], marker='o', cmap = cmap )\n",
        "ax.set_title(\"The Plot Of The Clusters\")\n",
        "plt.show()\n",
        "pal = [\"#682F2F\",\"#B9C0C9\", \"#9F8A78\",\"#F3AB60\"]\n",
        "pl = sns.countplot(x=data[\"Clusters\"], palette= pal)\n",
        "pl.set_title(\"Distribution Of The Clusters\")\n",
        "plt.show()\n",
        "plt.figure()\n",
        "pl=sns.swarmplot(x=data[\"Clusters\"], y=data[\"Spent\"], color= \"#CBEDDD\", alpha=0.5 )\n",
        "pl=sns.boxenplot(x=data[\"Clusters\"], y=data[\"Spent\"], palette=pal)\n",
        "plt.show()"
      ]
    }
  ]
}